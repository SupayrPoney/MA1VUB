{
 "cells": [
  {
   "cell_type": "code",
   "execution_count": 40,
   "metadata": {
    "collapsed": false
   },
   "outputs": [],
   "source": [
    "import scipy\n",
    "import scipy.stats as stats\n",
    "import pandas as pd\n",
    "import matplotlib.pyplot as plt\n",
    "\n",
    "%matplotlib inline\n"
   ]
  },
  {
   "cell_type": "code",
   "execution_count": 5,
   "metadata": {
    "collapsed": true
   },
   "outputs": [],
   "source": [
    "dataSet = [1,3,1,2]\n"
   ]
  },
  {
   "cell_type": "markdown",
   "metadata": {},
   "source": [
    "## Question 1\n",
    "### Dataset 1\n",
    "The data file contains reaction times for 100 users using user interfaces\n",
    "with blue elements and with red elements.\n",
    "- Make histograms and boxplots of distributions of both colors.\n"
   ]
  },
  {
   "cell_type": "code",
   "execution_count": 8,
   "metadata": {
    "collapsed": false
   },
   "outputs": [],
   "source": [
    "q1_df = pd.read_csv(\"Data/Question1_\"+ str(dataSet[0]) +\".csv\")"
   ]
  },
  {
   "cell_type": "code",
   "execution_count": 50,
   "metadata": {
    "collapsed": false
   },
   "outputs": [
    {
     "data": {
      "image/png": "[encoded data removed]",
      "text/plain": [
       "<matplotlib.figure.Figure at 0x7fadf73fba20>"
      ]
     },
     "metadata": {},
     "output_type": "display_data"
    }
   ],
   "source": [
    "red = q1_df[q1_df.interface == 'red']\n",
    "blue = q1_df[q1_df.interface == 'blue']\n",
    "\n",
    "plt.figure(figsize=(18,7))\n",
    "plt.hist([red.time,blue.time],color=[\"red\",\"blue\"],bins=30)\n",
    "\n",
    "plt.xlabel(\"Time\")\n",
    "plt.ylabel(\"Persons\")\n",
    "\n",
    "plt.grid()\n",
    "plt.show()\n"
   ]
  },
  {
   "cell_type": "code",
   "execution_count": 51,
   "metadata": {
    "collapsed": false
   },
   "outputs": [
    {
     "data": {
      "image/png": "[encoded data removed]",
      "text/plain": [
       "<matplotlib.figure.Figure at 0x7fadfd1184e0>"
      ]
     },
     "metadata": {},
     "output_type": "display_data"
    }
   ],
   "source": [
    "plt.figure(figsize=(18,7))\n",
    "plt.boxplot([red.time,blue.time])\n",
    "plt.ylabel(\"Time\")\n",
    "plt.grid()\n",
    "plt.show()"
   ]
  },
  {
   "cell_type": "markdown",
   "metadata": {},
   "source": [
    "- Make quantile-quantile plots comparing them with the normal\n",
    "distribution. Does this look OK?"
   ]
  },
  {
   "cell_type": "code",
   "execution_count": null,
   "metadata": {
    "collapsed": true
   },
   "outputs": [],
   "source": []
  },
  {
   "cell_type": "markdown",
   "metadata": {},
   "source": [
    "\n",
    "- Test whether the reaction times for the two user interfaces are\n",
    "different, and report the effect size"
   ]
  },
  {
   "cell_type": "code",
   "execution_count": null,
   "metadata": {
    "collapsed": true
   },
   "outputs": [],
   "source": []
  },
  {
   "cell_type": "markdown",
   "metadata": {},
   "source": [
    "## Question 2\n",
    "### Dataset 3\n",
    "The data file contains numbers of bugs found in the same programming\n",
    "project performed by 90 different students, each one of which used either\n",
    "C++, C or Scheme.\n",
    "- Investigate whether there are significant differences between these\n",
    "groups, and figure out which groups are significantly different.\n",
    "Make sure you test the assumptions of the test you are using.\n",
    "- Assuming a normal distribution, and aiming for a power of 0.8 and\n",
    "a p-value of 0.05, how large would your sample need to be to know\n",
    "whether there is a significant difference between the number of\n",
    "bugs in C and Scheme?"
   ]
  },
  {
   "cell_type": "code",
   "execution_count": 55,
   "metadata": {
    "collapsed": true
   },
   "outputs": [],
   "source": [
    "q2_df = pd.read_csv(\"Data/Question2_\"+ str(dataSet[1]) +\".csv\")"
   ]
  },
  {
   "cell_type": "markdown",
   "metadata": {},
   "source": [
    "## Question 3\n",
    "### Dataset 1\n",
    "The data file contains information about participants using an interactive\n",
    "training tool to improve their programming skills. It contains their age,\n",
    "the number of hours they spent training and whether they passed the\n",
    "final test (0 indicates failure, 1 indicates success).\n",
    "- Investigate whether the number of hours has predictive value for\n",
    "passing the test or not (in other words, does training longer\n",
    "improve performance?). Carefully explain your method.\n",
    "- Does the age of the participants have a significant influence on the\n",
    "outcome of the test (controlling for the effect of the number of\n",
    "training hours)?"
   ]
  },
  {
   "cell_type": "code",
   "execution_count": null,
   "metadata": {
    "collapsed": true
   },
   "outputs": [],
   "source": []
  },
  {
   "cell_type": "markdown",
   "metadata": {},
   "source": [
    "## Question 4\n",
    "### Dataset 2\n",
    "The data file contains the number of times ICT projects with and without\n",
    "version management finished on time or over time.\n",
    "- What are the percentages of finishing on time for the two\n",
    "conditions?\n",
    "- Test if version management has a significant influence on whether\n",
    "a project runs on time or not.\n",
    "- Explain why you used the test you used\n",
    "- Do you find the result surprising? Can you think of a way this\n",
    "study could be improved?"
   ]
  },
  {
   "cell_type": "code",
   "execution_count": null,
   "metadata": {
    "collapsed": true
   },
   "outputs": [],
   "source": []
  }
 ],
 "metadata": {
  "kernelspec": {
   "display_name": "Python 3",
   "language": "python",
   "name": "python3"
  },
  "language_info": {
   "codemirror_mode": {
    "name": "ipython",
    "version": 3
   },
   "file_extension": ".py",
   "mimetype": "text/x-python",
   "name": "python",
   "nbconvert_exporter": "python",
   "pygments_lexer": "ipython3",
   "version": "3.5.0"
  }
 },
 "nbformat": 4,
 "nbformat_minor": 0
}
